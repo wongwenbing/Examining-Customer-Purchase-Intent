{
 "cells": [
  {
   "cell_type": "code",
   "execution_count": 1,
   "metadata": {},
   "outputs": [],
   "source": [
    "import pandas as pd\n",
    "import seaborn as sns\n",
    "import matplotlib.pyplot as plt"
   ]
  },
  {
   "cell_type": "code",
   "execution_count": 24,
   "metadata": {},
   "outputs": [
    {
     "name": "stdout",
     "output_type": "stream",
     "text": [
      "      ProductCategory  ProductBrand  ProductPrice  CustomerAge CustomerGender  \\\n",
      "0         Smartphones  Other Brands    312.949668           18              M   \n",
      "1       Smart Watches       Samsung    980.389404           35              F   \n",
      "2             Tablets       Samsung   2606.718293           63              M   \n",
      "3         Smartphones       Samsung    870.395450           63              F   \n",
      "4             Tablets          Sony   1798.955875           57              M   \n",
      "...               ...           ...           ...          ...            ...   \n",
      "35995   Smart Watches       Samsung   1830.275695           50              F   \n",
      "35996   Smart Watches       Samsung   1040.315886           35              F   \n",
      "35997      Headphones       Samsung   2887.369597           28              M   \n",
      "35998      Headphones       Samsung   2887.369597           28              M   \n",
      "35999      Headphones       Samsung   2887.455499           31              M   \n",
      "\n",
      "       PurchaseFrequency  CustomerSatisfaction  PurchaseIntent  \\\n",
      "0                      2                     1               0   \n",
      "1                      7                     2               1   \n",
      "2                      1                     5               1   \n",
      "3                     10                     3               1   \n",
      "4                     17                     3               0   \n",
      "...                  ...                   ...             ...   \n",
      "35995                  8                     5               0   \n",
      "35996                 17                     4               0   \n",
      "35997                 18                     4               0   \n",
      "35998                 18                     4               0   \n",
      "35999                 18                     4               0   \n",
      "\n",
      "      CustomerSatisfaction [Binned]  \n",
      "0                             [1,3]  \n",
      "1                             [1,3]  \n",
      "2                             (3,5]  \n",
      "3                             [1,3]  \n",
      "4                             [1,3]  \n",
      "...                             ...  \n",
      "35995                         (3,5]  \n",
      "35996                         (3,5]  \n",
      "35997                         (3,5]  \n",
      "35998                         (3,5]  \n",
      "35999                         (3,5]  \n",
      "\n",
      "[36000 rows x 9 columns]\n"
     ]
    }
   ],
   "source": [
    "df = pd.read_csv('cust_satisfaction 36k.csv')\n",
    "print(df)"
   ]
  },
  {
   "cell_type": "code",
   "execution_count": 25,
   "metadata": {},
   "outputs": [
    {
     "name": "stdout",
     "output_type": "stream",
     "text": [
      "   CustomerSatisfaction  count\n",
      "0                     2   8336\n",
      "1                     5   7619\n",
      "2                     1   7402\n",
      "3                     4   6633\n",
      "4                     3   6010\n"
     ]
    }
   ],
   "source": [
    "df_counts = df['CustomerSatisfaction'].value_counts().reset_index()\n",
    "print(df_counts)"
   ]
  },
  {
   "cell_type": "code",
   "execution_count": 26,
   "metadata": {},
   "outputs": [
    {
     "data": {
      "text/plain": [
       "Text(0.5, 0, 'Customer Satisfaction')"
      ]
     },
     "execution_count": 26,
     "metadata": {},
     "output_type": "execute_result"
    },
    {
     "data": {
      "image/png": "[encoded data removed]",
      "text/plain": [
       "<Figure size 640x480 with 1 Axes>"
      ]
     },
     "metadata": {},
     "output_type": "display_data"
    }
   ],
   "source": [
    "sns.barplot(x='CustomerSatisfaction', y='count', data=df_counts)\n",
    "plt.title('Customer Satisfaction Count')\n",
    "plt.xlabel('Customer Satisfaction')"
   ]
  },
  {
   "cell_type": "code",
   "execution_count": null,
   "metadata": {},
   "outputs": [],
   "source": []
  }
 ],
 "metadata": {
  "kernelspec": {
   "display_name": "Python 3",
   "language": "python",
   "name": "python3"
  },
  "language_info": {
   "codemirror_mode": {
    "name": "ipython",
    "version": 3
   },
   "file_extension": ".py",
   "mimetype": "text/x-python",
   "name": "python",
   "nbconvert_exporter": "python",
   "pygments_lexer": "ipython3",
   "version": "3.11.4"
  },
  "orig_nbformat": 4
 },
 "nbformat": 4,
 "nbformat_minor": 2
}
